{
 "cells": [
  {
   "cell_type": "markdown",
   "metadata": {
    "chapterId": "ry-G_A7Wxbf",
    "colab_type": "text",
    "id": "chapter_name"
   },
   "source": [
    "# DVHの表示と活用法"
   ]
  },
  {
   "cell_type": "markdown",
   "metadata": {
    "colab_type": "text",
    "id": "table"
   },
   "source": [
    "- **1. 治療計画装置からDVHデータをExportする**\n",
    "<br><br>\n",
    "- **2. Pythonでテキストデータを読み込む**\n",
    "    - **2.1. read()とreadlines()**\n",
    "    - **2.2. DVHのtxtファイルを読み込む**\n",
    "<br><br>\n",
    "- **3. DVHの表示**\n",
    "    - **3.1. 行番号を調べる**\n",
    "    - **3.2. DVHデータを抽出する** \n",
    "    - **3.3. グラフ化の準備をする**\n",
    "    - **3.4. Matplotlibでグラフを表示する**\n",
    "<br><br>\n",
    "- **4. 必要な情報の抽出**"
   ]
  },
  {
   "cell_type": "markdown",
   "metadata": {
    "colab_type": "text",
    "id": "ERwtrII2XqP-"
   },
   "source": [
    "***"
   ]
  },
  {
   "cell_type": "markdown",
   "metadata": {},
   "source": [
    "## 〇 1. 治療計画装置からDVHデータをExportする"
   ]
  },
  {
   "cell_type": "markdown",
   "metadata": {
    "colab_type": "text",
    "id": "section_name",
    "sectionId": "HkzM_0Xbl-f"
   },
   "source": [
    "## 〇 2. Pythonでテキストデータを読み込む"
   ]
  },
  {
   "cell_type": "markdown",
   "metadata": {},
   "source": [
    "### ● 2.1. read()とreadlines()"
   ]
  },
  {
   "cell_type": "markdown",
   "metadata": {},
   "source": [
    "open() を使ってtxtファイルを開き、**read()** を使ってtxtファイルを読み込みます。  \n",
    "下のセルをそのまま実行（ Run または Shift + Enter ）してみてください。  "
   ]
  },
  {
   "cell_type": "code",
   "execution_count": 1,
   "metadata": {
    "colab": {},
    "colab_type": "code",
    "id": "YsRtdFXCQOZw"
   },
   "outputs": [
    {
     "name": "stdout",
     "output_type": "stream",
     "text": [
      "1\n",
      "2\n",
      "3\n",
      "4\n",
      "5\n",
      "6\n",
      "7\n",
      "8\n",
      "9\n"
     ]
    }
   ],
   "source": [
    "f = open( 'number.txt', encoding = 'utf-8' )    \n",
    "numbers = f.read()\n",
    "f.close()\n",
    "\n",
    "print(numbers)"
   ]
  },
  {
   "cell_type": "markdown",
   "metadata": {},
   "source": [
    "次に**readlines()** を使ってtxtファイルを読み込みます。  "
   ]
  },
  {
   "cell_type": "code",
   "execution_count": 2,
   "metadata": {},
   "outputs": [
    {
     "name": "stdout",
     "output_type": "stream",
     "text": [
      "['1\\n', '2\\n', '3\\n', '4\\n', '5\\n', '6\\n', '7\\n', '8\\n', '9']\n"
     ]
    }
   ],
   "source": [
    "f = open( 'number.txt', encoding = 'utf-8' )    \n",
    "numbers = f.readlines()\n",
    "f.close()\n",
    "\n",
    "print(numbers)"
   ]
  },
  {
   "cell_type": "markdown",
   "metadata": {},
   "source": [
    "### ● 2.2. DVHのtxtファイルを読み込む"
   ]
  },
  {
   "cell_type": "markdown",
   "metadata": {},
   "source": [
    "readlines()でDVHのtxtファイルを読み込みます。"
   ]
  },
  {
   "cell_type": "code",
   "execution_count": 3,
   "metadata": {},
   "outputs": [
    {
     "name": "stdout",
     "output_type": "stream",
     "text": [
      "['\\ufeffPatient Name         : Patient, Prostate1\\n', 'Patient ID           : 11111111\\n', 'Comment              : DVHs for one plan\\n', 'Date                 : Thursday, June 06, 2019 8:53:27 PM\\n', 'Exported by          : SysAdmin\\n', 'Type                 : Cumulative Dose Volume Histogram\\n', 'Description          : The cumulative DVH displays the percentage (relative)\\n', '                       or volume (absolute) of structures that receive a dose\\n', '                       equal to or greater than a given dose.\\n', '\\n', 'Plan: 01_Prostate_r\\n', 'Course: 01\\n', 'Plan Status: Planning Approved Wednesday, January 30, 2019 8:09:05 AM by XXXXX\\n', 'Prescribed dose [Gy]: 78.000\\n', '% for dose (%): 100.0\\n', '\\n', 'Structure: Rectal Wall\\n', 'Approval Status: Approved\\n', 'Plan: 01_Prostate_r\\n', 'Course: 01\\n', 'Volume [cm³]: 21.7\\n', 'Dose Cover.[%]: 100.0\\n', 'Sampling Cover.[%]: 100.0\\n', 'Min Dose [%]: 1.9\\n', 'Max Dose [%]: 97.2\\n', 'Mean Dose [%]: 52.8\\n', 'Modal Dose [%]: 3.2\\n', 'Median Dose [%]: 51.8\\n', 'STD [%]: 30.3\\n', 'Equiv. Sphere Diam. [cm]: 3.5\\n', 'Conformity Index: N/A\\n', 'Gradient Measure [cm]: N/A\\n', '\\n', 'Relative dose [%]           Dose [Gy] Ratio of Total Structure Volume [%]\\n', '                0                   0                       100\\n', '               10                 7.8                   83.6145\\n', '               20                15.6                   79.5203\\n', '               30                23.4                   76.8293\\n', '               40                31.2                   71.0453\\n', '               50                  39                   52.2919\\n', '               60                46.8                   41.5127\\n', '               70                54.6                   33.3439\\n', '               80                62.4                   26.3351\\n', '               90                70.2                   16.3178\\n', '              100                  78                         0\\n', '\\n', 'Structure: PTV-Rectum\\n', 'Approval Status: Approved\\n', 'Plan: 01_Prostate_r\\n', 'Course: 01\\n', 'Volume [cm³]: 96.3\\n', 'Dose Cover.[%]: 100.0\\n', 'Sampling Cover.[%]: 100.0\\n', 'Min Dose [%]: 85.5\\n', 'Max Dose [%]: 105.9\\n', 'Mean Dose [%]: 100.0\\n', 'Modal Dose [%]: 100.2\\n', 'Median Dose [%]: 100.4\\n', 'STD [%]: 1.9\\n', 'Equiv. Sphere Diam. [cm]: 5.7\\n', 'Conformity Index: 0.64\\n', 'Gradient Measure [cm]: 1.85\\n', '\\n', 'Relative dose [%]           Dose [Gy] Ratio of Total Structure Volume [%]\\n', '                0                   0                       100\\n', '               10                 7.8                       100\\n', '               20                15.6                       100\\n', '               30                23.4                       100\\n', '               40                31.2                       100\\n', '               50                  39                       100\\n', '               60                46.8                       100\\n', '               70                54.6                       100\\n', '               80                62.4                       100\\n', '               90                70.2                   99.9773\\n', '              100                  78                   61.9731\\n', '\\n', 'Structure: PTV\\n', 'Approval Status: Approved\\n', 'Plan: 01_Prostate_r\\n', 'Course: 01\\n', 'Volume [cm³]: 110.3\\n', 'Dose Cover.[%]: 100.0\\n', 'Sampling Cover.[%]: 100.0\\n', 'Min Dose [%]: 57.1\\n', 'Max Dose [%]: 105.9\\n', 'Mean Dose [%]: 98.1\\n', 'Modal Dose [%]: 100.2\\n', 'Median Dose [%]: 100.2\\n', 'STD [%]: 6.0\\n', 'Equiv. Sphere Diam. [cm]: 5.9\\n', 'Conformity Index: N/A\\n', 'Gradient Measure [cm]: N/A\\n', '\\n', 'Relative dose [%]           Dose [Gy] Ratio of Total Structure Volume [%]\\n', '                0                   0                       100\\n', '               10                 7.8                       100\\n', '               20                15.6                       100\\n', '               30                23.4                       100\\n', '               40                31.2                       100\\n', '               50                  39                       100\\n', '               60                46.8                     99.98\\n', '               70                54.6                   99.2351\\n', '               80                62.4                   96.8211\\n', '               90                70.2                   91.8858\\n', '              100                  78                   54.1203\\n', '\\n', 'Structure: CTV\\n', 'Approval Status: Approved\\n', 'Plan: 01_Prostate_r\\n', 'Course: 01\\n', 'Volume [cm³]: 27.2\\n', 'Dose Cover.[%]: 100.0\\n', 'Sampling Cover.[%]: 100.1\\n', 'Min Dose [%]: 94.7\\n', 'Max Dose [%]: 103.8\\n', 'Mean Dose [%]: 100.1\\n', 'Modal Dose [%]: 100.2\\n', 'Median Dose [%]: 100.2\\n', 'STD [%]: 0.9\\n', 'Equiv. Sphere Diam. [cm]: 3.7\\n', 'Conformity Index: N/A\\n', 'Gradient Measure [cm]: N/A\\n', '\\n', 'Relative dose [%]           Dose [Gy] Ratio of Total Structure Volume [%]\\n', '                0                   0                       100\\n', '               10                 7.8                       100\\n', '               20                15.6                       100\\n', '               30                23.4                       100\\n', '               40                31.2                       100\\n', '               50                  39                       100\\n', '               60                46.8                       100\\n', '               70                54.6                       100\\n', '               80                62.4                       100\\n', '               90                70.2                       100\\n', '              100                  78                   65.3898\\n', '\\n', 'Structure: Bladder Wall\\n', 'Approval Status: Approved\\n', 'Plan: 01_Prostate_r\\n', 'Course: 01\\n', 'Volume [cm³]: 99.6\\n', 'Dose Cover.[%]: 100.0\\n', 'Sampling Cover.[%]: 100.1\\n', 'Min Dose [%]: 1.2\\n', 'Max Dose [%]: 104.0\\n', 'Mean Dose [%]: 33.3\\n', 'Modal Dose [%]: 3.1\\n', 'Median Dose [%]: 19.4\\n', 'STD [%]: 35.7\\n', 'Equiv. Sphere Diam. [cm]: 5.8\\n', 'Conformity Index: N/A\\n', 'Gradient Measure [cm]: N/A\\n', '\\n', 'Relative dose [%]           Dose [Gy] Ratio of Total Structure Volume [%]\\n', '                0                   0                       100\\n', '               10                 7.8                   54.4945\\n', '               20                15.6                   49.7493\\n', '               30                23.4                   42.4695\\n', '               40                31.2                   33.1478\\n', '               50                  39                   27.1507\\n', '               60                46.8                   22.9079\\n', '               70                54.6                   20.0507\\n', '               80                62.4                   17.8288\\n', '               90                70.2                   15.6054\\n', '              100                  78                   10.2663\\n', '\\n']\n"
     ]
    }
   ],
   "source": [
    "f = open( 'DVH1_short.txt', encoding = 'utf-8' )    \n",
    "data = f.readlines()\n",
    "f.close()\n",
    "\n",
    "print(data)"
   ]
  },
  {
   "cell_type": "markdown",
   "metadata": {},
   "source": [
    "リスト型のデータはその要素番号を指定することで，要素を取り出すことができます。（インデックス参照）"
   ]
  },
  {
   "cell_type": "code",
   "execution_count": 4,
   "metadata": {},
   "outputs": [
    {
     "name": "stdout",
     "output_type": "stream",
     "text": [
      "Patient ID           : 11111111\n",
      "\n"
     ]
    }
   ],
   "source": [
    "# Patient IDを出力します\n",
    "print(data[1])"
   ]
  },
  {
   "cell_type": "markdown",
   "metadata": {},
   "source": [
    "#### **練習1**  \n",
    "リストのインデックス参照を使って，Prescribed dose [Gy] を出力してください。"
   ]
  },
  {
   "cell_type": "code",
   "execution_count": 5,
   "metadata": {},
   "outputs": [],
   "source": [
    "# Prescribed dose [Gy] を出力してください\n"
   ]
  },
  {
   "cell_type": "markdown",
   "metadata": {
    "colab_type": "text",
    "id": "Y476HYLnXqQJ"
   },
   "source": [
    "## 〇 3. DVHの表示"
   ]
  },
  {
   "cell_type": "markdown",
   "metadata": {
    "colab_type": "text",
    "id": "EirScGNxXqQL"
   },
   "source": [
    "### ● 3.1. 行番号を調べる"
   ]
  },
  {
   "cell_type": "markdown",
   "metadata": {},
   "source": [
    "基本的なfor文の例です。"
   ]
  },
  {
   "cell_type": "code",
   "execution_count": 6,
   "metadata": {},
   "outputs": [
    {
     "name": "stdout",
     "output_type": "stream",
     "text": [
      "﻿Patient Name         : Patient, Prostate1\n",
      "\n",
      "Patient ID           : 11111111\n",
      "\n",
      "Comment              : DVHs for one plan\n",
      "\n",
      "Date                 : Thursday, June 06, 2019 8:53:27 PM\n",
      "\n",
      "Exported by          : SysAdmin\n",
      "\n",
      "Type                 : Cumulative Dose Volume Histogram\n",
      "\n",
      "Description          : The cumulative DVH displays the percentage (relative)\n",
      "\n",
      "                       or volume (absolute) of structures that receive a dose\n",
      "\n",
      "                       equal to or greater than a given dose.\n",
      "\n",
      "\n",
      "\n",
      "Plan: 01_Prostate_r\n",
      "\n",
      "Course: 01\n",
      "\n",
      "Plan Status: Planning Approved Wednesday, January 30, 2019 8:09:05 AM by XXXXX\n",
      "\n",
      "Prescribed dose [Gy]: 78.000\n",
      "\n",
      "% for dose (%): 100.0\n",
      "\n",
      "\n",
      "\n",
      "Structure: Rectal Wall\n",
      "\n",
      "Approval Status: Approved\n",
      "\n",
      "Plan: 01_Prostate_r\n",
      "\n",
      "Course: 01\n",
      "\n",
      "Volume [cm³]: 21.7\n",
      "\n",
      "Dose Cover.[%]: 100.0\n",
      "\n",
      "Sampling Cover.[%]: 100.0\n",
      "\n",
      "Min Dose [%]: 1.9\n",
      "\n",
      "Max Dose [%]: 97.2\n",
      "\n",
      "Mean Dose [%]: 52.8\n",
      "\n",
      "Modal Dose [%]: 3.2\n",
      "\n",
      "Median Dose [%]: 51.8\n",
      "\n",
      "STD [%]: 30.3\n",
      "\n",
      "Equiv. Sphere Diam. [cm]: 3.5\n",
      "\n",
      "Conformity Index: N/A\n",
      "\n",
      "Gradient Measure [cm]: N/A\n",
      "\n",
      "\n",
      "\n",
      "Relative dose [%]           Dose [Gy] Ratio of Total Structure Volume [%]\n",
      "\n",
      "                0                   0                       100\n",
      "\n",
      "               10                 7.8                   83.6145\n",
      "\n",
      "               20                15.6                   79.5203\n",
      "\n",
      "               30                23.4                   76.8293\n",
      "\n",
      "               40                31.2                   71.0453\n",
      "\n",
      "               50                  39                   52.2919\n",
      "\n",
      "               60                46.8                   41.5127\n",
      "\n",
      "               70                54.6                   33.3439\n",
      "\n",
      "               80                62.4                   26.3351\n",
      "\n",
      "               90                70.2                   16.3178\n",
      "\n",
      "              100                  78                         0\n",
      "\n",
      "\n",
      "\n",
      "Structure: PTV-Rectum\n",
      "\n",
      "Approval Status: Approved\n",
      "\n",
      "Plan: 01_Prostate_r\n",
      "\n",
      "Course: 01\n",
      "\n",
      "Volume [cm³]: 96.3\n",
      "\n",
      "Dose Cover.[%]: 100.0\n",
      "\n",
      "Sampling Cover.[%]: 100.0\n",
      "\n",
      "Min Dose [%]: 85.5\n",
      "\n",
      "Max Dose [%]: 105.9\n",
      "\n",
      "Mean Dose [%]: 100.0\n",
      "\n",
      "Modal Dose [%]: 100.2\n",
      "\n",
      "Median Dose [%]: 100.4\n",
      "\n",
      "STD [%]: 1.9\n",
      "\n",
      "Equiv. Sphere Diam. [cm]: 5.7\n",
      "\n",
      "Conformity Index: 0.64\n",
      "\n",
      "Gradient Measure [cm]: 1.85\n",
      "\n",
      "\n",
      "\n",
      "Relative dose [%]           Dose [Gy] Ratio of Total Structure Volume [%]\n",
      "\n",
      "                0                   0                       100\n",
      "\n",
      "               10                 7.8                       100\n",
      "\n",
      "               20                15.6                       100\n",
      "\n",
      "               30                23.4                       100\n",
      "\n",
      "               40                31.2                       100\n",
      "\n",
      "               50                  39                       100\n",
      "\n",
      "               60                46.8                       100\n",
      "\n",
      "               70                54.6                       100\n",
      "\n",
      "               80                62.4                       100\n",
      "\n",
      "               90                70.2                   99.9773\n",
      "\n",
      "              100                  78                   61.9731\n",
      "\n",
      "\n",
      "\n",
      "Structure: PTV\n",
      "\n",
      "Approval Status: Approved\n",
      "\n",
      "Plan: 01_Prostate_r\n",
      "\n",
      "Course: 01\n",
      "\n",
      "Volume [cm³]: 110.3\n",
      "\n",
      "Dose Cover.[%]: 100.0\n",
      "\n",
      "Sampling Cover.[%]: 100.0\n",
      "\n",
      "Min Dose [%]: 57.1\n",
      "\n",
      "Max Dose [%]: 105.9\n",
      "\n",
      "Mean Dose [%]: 98.1\n",
      "\n",
      "Modal Dose [%]: 100.2\n",
      "\n",
      "Median Dose [%]: 100.2\n",
      "\n",
      "STD [%]: 6.0\n",
      "\n",
      "Equiv. Sphere Diam. [cm]: 5.9\n",
      "\n",
      "Conformity Index: N/A\n",
      "\n",
      "Gradient Measure [cm]: N/A\n",
      "\n",
      "\n",
      "\n",
      "Relative dose [%]           Dose [Gy] Ratio of Total Structure Volume [%]\n",
      "\n",
      "                0                   0                       100\n",
      "\n",
      "               10                 7.8                       100\n",
      "\n",
      "               20                15.6                       100\n",
      "\n",
      "               30                23.4                       100\n",
      "\n",
      "               40                31.2                       100\n",
      "\n",
      "               50                  39                       100\n",
      "\n",
      "               60                46.8                     99.98\n",
      "\n",
      "               70                54.6                   99.2351\n",
      "\n",
      "               80                62.4                   96.8211\n",
      "\n",
      "               90                70.2                   91.8858\n",
      "\n",
      "              100                  78                   54.1203\n",
      "\n",
      "\n",
      "\n",
      "Structure: CTV\n",
      "\n",
      "Approval Status: Approved\n",
      "\n",
      "Plan: 01_Prostate_r\n",
      "\n",
      "Course: 01\n",
      "\n",
      "Volume [cm³]: 27.2\n",
      "\n",
      "Dose Cover.[%]: 100.0\n",
      "\n",
      "Sampling Cover.[%]: 100.1\n",
      "\n",
      "Min Dose [%]: 94.7\n",
      "\n",
      "Max Dose [%]: 103.8\n",
      "\n",
      "Mean Dose [%]: 100.1\n",
      "\n",
      "Modal Dose [%]: 100.2\n",
      "\n",
      "Median Dose [%]: 100.2\n",
      "\n",
      "STD [%]: 0.9\n",
      "\n",
      "Equiv. Sphere Diam. [cm]: 3.7\n",
      "\n",
      "Conformity Index: N/A\n",
      "\n",
      "Gradient Measure [cm]: N/A\n",
      "\n",
      "\n",
      "\n",
      "Relative dose [%]           Dose [Gy] Ratio of Total Structure Volume [%]\n",
      "\n",
      "                0                   0                       100\n",
      "\n",
      "               10                 7.8                       100\n",
      "\n",
      "               20                15.6                       100\n",
      "\n",
      "               30                23.4                       100\n",
      "\n",
      "               40                31.2                       100\n",
      "\n",
      "               50                  39                       100\n",
      "\n",
      "               60                46.8                       100\n",
      "\n",
      "               70                54.6                       100\n",
      "\n",
      "               80                62.4                       100\n",
      "\n",
      "               90                70.2                       100\n",
      "\n",
      "              100                  78                   65.3898\n",
      "\n",
      "\n",
      "\n",
      "Structure: Bladder Wall\n",
      "\n",
      "Approval Status: Approved\n",
      "\n",
      "Plan: 01_Prostate_r\n",
      "\n",
      "Course: 01\n",
      "\n",
      "Volume [cm³]: 99.6\n",
      "\n",
      "Dose Cover.[%]: 100.0\n",
      "\n",
      "Sampling Cover.[%]: 100.1\n",
      "\n",
      "Min Dose [%]: 1.2\n",
      "\n",
      "Max Dose [%]: 104.0\n",
      "\n",
      "Mean Dose [%]: 33.3\n",
      "\n",
      "Modal Dose [%]: 3.1\n",
      "\n",
      "Median Dose [%]: 19.4\n",
      "\n",
      "STD [%]: 35.7\n",
      "\n",
      "Equiv. Sphere Diam. [cm]: 5.8\n",
      "\n",
      "Conformity Index: N/A\n",
      "\n",
      "Gradient Measure [cm]: N/A\n",
      "\n",
      "\n",
      "\n",
      "Relative dose [%]           Dose [Gy] Ratio of Total Structure Volume [%]\n",
      "\n",
      "                0                   0                       100\n",
      "\n",
      "               10                 7.8                   54.4945\n",
      "\n",
      "               20                15.6                   49.7493\n",
      "\n",
      "               30                23.4                   42.4695\n",
      "\n",
      "               40                31.2                   33.1478\n",
      "\n",
      "               50                  39                   27.1507\n",
      "\n",
      "               60                46.8                   22.9079\n",
      "\n",
      "               70                54.6                   20.0507\n",
      "\n",
      "               80                62.4                   17.8288\n",
      "\n",
      "               90                70.2                   15.6054\n",
      "\n",
      "              100                  78                   10.2663\n",
      "\n",
      "\n",
      "\n"
     ]
    }
   ],
   "source": [
    "for i in data:\n",
    "    print(i)"
   ]
  },
  {
   "cell_type": "markdown",
   "metadata": {},
   "source": [
    "for文とenumerate()関数を使って，dataの要素番号（＝txtファイルの行番号）を調べます。  \n",
    "下のセルをそのまま実行してみてください。  "
   ]
  },
  {
   "cell_type": "code",
   "execution_count": 7,
   "metadata": {
    "scrolled": true
   },
   "outputs": [
    {
     "name": "stdout",
     "output_type": "stream",
     "text": [
      "(0, '\\ufeffPatient Name         : Patient, Prostate1\\n')\n",
      "(1, 'Patient ID           : 11111111\\n')\n",
      "(2, 'Comment              : DVHs for one plan\\n')\n",
      "(3, 'Date                 : Thursday, June 06, 2019 8:53:27 PM\\n')\n",
      "(4, 'Exported by          : SysAdmin\\n')\n",
      "(5, 'Type                 : Cumulative Dose Volume Histogram\\n')\n",
      "(6, 'Description          : The cumulative DVH displays the percentage (relative)\\n')\n",
      "(7, '                       or volume (absolute) of structures that receive a dose\\n')\n",
      "(8, '                       equal to or greater than a given dose.\\n')\n",
      "(9, '\\n')\n",
      "(10, 'Plan: 01_Prostate_r\\n')\n",
      "(11, 'Course: 01\\n')\n",
      "(12, 'Plan Status: Planning Approved Wednesday, January 30, 2019 8:09:05 AM by XXXXX\\n')\n",
      "(13, 'Prescribed dose [Gy]: 78.000\\n')\n",
      "(14, '% for dose (%): 100.0\\n')\n",
      "(15, '\\n')\n",
      "(16, 'Structure: Rectal Wall\\n')\n",
      "(17, 'Approval Status: Approved\\n')\n",
      "(18, 'Plan: 01_Prostate_r\\n')\n",
      "(19, 'Course: 01\\n')\n",
      "(20, 'Volume [cm³]: 21.7\\n')\n",
      "(21, 'Dose Cover.[%]: 100.0\\n')\n",
      "(22, 'Sampling Cover.[%]: 100.0\\n')\n",
      "(23, 'Min Dose [%]: 1.9\\n')\n",
      "(24, 'Max Dose [%]: 97.2\\n')\n",
      "(25, 'Mean Dose [%]: 52.8\\n')\n",
      "(26, 'Modal Dose [%]: 3.2\\n')\n",
      "(27, 'Median Dose [%]: 51.8\\n')\n",
      "(28, 'STD [%]: 30.3\\n')\n",
      "(29, 'Equiv. Sphere Diam. [cm]: 3.5\\n')\n",
      "(30, 'Conformity Index: N/A\\n')\n",
      "(31, 'Gradient Measure [cm]: N/A\\n')\n",
      "(32, '\\n')\n",
      "(33, 'Relative dose [%]           Dose [Gy] Ratio of Total Structure Volume [%]\\n')\n",
      "(34, '                0                   0                       100\\n')\n",
      "(35, '               10                 7.8                   83.6145\\n')\n",
      "(36, '               20                15.6                   79.5203\\n')\n",
      "(37, '               30                23.4                   76.8293\\n')\n",
      "(38, '               40                31.2                   71.0453\\n')\n",
      "(39, '               50                  39                   52.2919\\n')\n",
      "(40, '               60                46.8                   41.5127\\n')\n",
      "(41, '               70                54.6                   33.3439\\n')\n",
      "(42, '               80                62.4                   26.3351\\n')\n",
      "(43, '               90                70.2                   16.3178\\n')\n",
      "(44, '              100                  78                         0\\n')\n",
      "(45, '\\n')\n",
      "(46, 'Structure: PTV-Rectum\\n')\n",
      "(47, 'Approval Status: Approved\\n')\n",
      "(48, 'Plan: 01_Prostate_r\\n')\n",
      "(49, 'Course: 01\\n')\n",
      "(50, 'Volume [cm³]: 96.3\\n')\n",
      "(51, 'Dose Cover.[%]: 100.0\\n')\n",
      "(52, 'Sampling Cover.[%]: 100.0\\n')\n",
      "(53, 'Min Dose [%]: 85.5\\n')\n",
      "(54, 'Max Dose [%]: 105.9\\n')\n",
      "(55, 'Mean Dose [%]: 100.0\\n')\n",
      "(56, 'Modal Dose [%]: 100.2\\n')\n",
      "(57, 'Median Dose [%]: 100.4\\n')\n",
      "(58, 'STD [%]: 1.9\\n')\n",
      "(59, 'Equiv. Sphere Diam. [cm]: 5.7\\n')\n",
      "(60, 'Conformity Index: 0.64\\n')\n",
      "(61, 'Gradient Measure [cm]: 1.85\\n')\n",
      "(62, '\\n')\n",
      "(63, 'Relative dose [%]           Dose [Gy] Ratio of Total Structure Volume [%]\\n')\n",
      "(64, '                0                   0                       100\\n')\n",
      "(65, '               10                 7.8                       100\\n')\n",
      "(66, '               20                15.6                       100\\n')\n",
      "(67, '               30                23.4                       100\\n')\n",
      "(68, '               40                31.2                       100\\n')\n",
      "(69, '               50                  39                       100\\n')\n",
      "(70, '               60                46.8                       100\\n')\n",
      "(71, '               70                54.6                       100\\n')\n",
      "(72, '               80                62.4                       100\\n')\n",
      "(73, '               90                70.2                   99.9773\\n')\n",
      "(74, '              100                  78                   61.9731\\n')\n",
      "(75, '\\n')\n",
      "(76, 'Structure: PTV\\n')\n",
      "(77, 'Approval Status: Approved\\n')\n",
      "(78, 'Plan: 01_Prostate_r\\n')\n",
      "(79, 'Course: 01\\n')\n",
      "(80, 'Volume [cm³]: 110.3\\n')\n",
      "(81, 'Dose Cover.[%]: 100.0\\n')\n",
      "(82, 'Sampling Cover.[%]: 100.0\\n')\n",
      "(83, 'Min Dose [%]: 57.1\\n')\n",
      "(84, 'Max Dose [%]: 105.9\\n')\n",
      "(85, 'Mean Dose [%]: 98.1\\n')\n",
      "(86, 'Modal Dose [%]: 100.2\\n')\n",
      "(87, 'Median Dose [%]: 100.2\\n')\n",
      "(88, 'STD [%]: 6.0\\n')\n",
      "(89, 'Equiv. Sphere Diam. [cm]: 5.9\\n')\n",
      "(90, 'Conformity Index: N/A\\n')\n",
      "(91, 'Gradient Measure [cm]: N/A\\n')\n",
      "(92, '\\n')\n",
      "(93, 'Relative dose [%]           Dose [Gy] Ratio of Total Structure Volume [%]\\n')\n",
      "(94, '                0                   0                       100\\n')\n",
      "(95, '               10                 7.8                       100\\n')\n",
      "(96, '               20                15.6                       100\\n')\n",
      "(97, '               30                23.4                       100\\n')\n",
      "(98, '               40                31.2                       100\\n')\n",
      "(99, '               50                  39                       100\\n')\n",
      "(100, '               60                46.8                     99.98\\n')\n",
      "(101, '               70                54.6                   99.2351\\n')\n",
      "(102, '               80                62.4                   96.8211\\n')\n",
      "(103, '               90                70.2                   91.8858\\n')\n",
      "(104, '              100                  78                   54.1203\\n')\n",
      "(105, '\\n')\n",
      "(106, 'Structure: CTV\\n')\n",
      "(107, 'Approval Status: Approved\\n')\n",
      "(108, 'Plan: 01_Prostate_r\\n')\n",
      "(109, 'Course: 01\\n')\n",
      "(110, 'Volume [cm³]: 27.2\\n')\n",
      "(111, 'Dose Cover.[%]: 100.0\\n')\n",
      "(112, 'Sampling Cover.[%]: 100.1\\n')\n",
      "(113, 'Min Dose [%]: 94.7\\n')\n",
      "(114, 'Max Dose [%]: 103.8\\n')\n",
      "(115, 'Mean Dose [%]: 100.1\\n')\n",
      "(116, 'Modal Dose [%]: 100.2\\n')\n",
      "(117, 'Median Dose [%]: 100.2\\n')\n",
      "(118, 'STD [%]: 0.9\\n')\n",
      "(119, 'Equiv. Sphere Diam. [cm]: 3.7\\n')\n",
      "(120, 'Conformity Index: N/A\\n')\n",
      "(121, 'Gradient Measure [cm]: N/A\\n')\n",
      "(122, '\\n')\n",
      "(123, 'Relative dose [%]           Dose [Gy] Ratio of Total Structure Volume [%]\\n')\n",
      "(124, '                0                   0                       100\\n')\n",
      "(125, '               10                 7.8                       100\\n')\n",
      "(126, '               20                15.6                       100\\n')\n",
      "(127, '               30                23.4                       100\\n')\n",
      "(128, '               40                31.2                       100\\n')\n",
      "(129, '               50                  39                       100\\n')\n",
      "(130, '               60                46.8                       100\\n')\n",
      "(131, '               70                54.6                       100\\n')\n",
      "(132, '               80                62.4                       100\\n')\n",
      "(133, '               90                70.2                       100\\n')\n",
      "(134, '              100                  78                   65.3898\\n')\n",
      "(135, '\\n')\n",
      "(136, 'Structure: Bladder Wall\\n')\n",
      "(137, 'Approval Status: Approved\\n')\n",
      "(138, 'Plan: 01_Prostate_r\\n')\n",
      "(139, 'Course: 01\\n')\n",
      "(140, 'Volume [cm³]: 99.6\\n')\n",
      "(141, 'Dose Cover.[%]: 100.0\\n')\n",
      "(142, 'Sampling Cover.[%]: 100.1\\n')\n",
      "(143, 'Min Dose [%]: 1.2\\n')\n",
      "(144, 'Max Dose [%]: 104.0\\n')\n",
      "(145, 'Mean Dose [%]: 33.3\\n')\n",
      "(146, 'Modal Dose [%]: 3.1\\n')\n",
      "(147, 'Median Dose [%]: 19.4\\n')\n",
      "(148, 'STD [%]: 35.7\\n')\n",
      "(149, 'Equiv. Sphere Diam. [cm]: 5.8\\n')\n",
      "(150, 'Conformity Index: N/A\\n')\n",
      "(151, 'Gradient Measure [cm]: N/A\\n')\n",
      "(152, '\\n')\n",
      "(153, 'Relative dose [%]           Dose [Gy] Ratio of Total Structure Volume [%]\\n')\n",
      "(154, '                0                   0                       100\\n')\n",
      "(155, '               10                 7.8                   54.4945\\n')\n",
      "(156, '               20                15.6                   49.7493\\n')\n",
      "(157, '               30                23.4                   42.4695\\n')\n",
      "(158, '               40                31.2                   33.1478\\n')\n",
      "(159, '               50                  39                   27.1507\\n')\n",
      "(160, '               60                46.8                   22.9079\\n')\n",
      "(161, '               70                54.6                   20.0507\\n')\n",
      "(162, '               80                62.4                   17.8288\\n')\n",
      "(163, '               90                70.2                   15.6054\\n')\n",
      "(164, '              100                  78                   10.2663\\n')\n",
      "(165, '\\n')\n"
     ]
    }
   ],
   "source": [
    "for i in enumerate(data):\n",
    "    print(i)"
   ]
  },
  {
   "cell_type": "markdown",
   "metadata": {
    "colab_type": "text",
    "id": "EirScGNxXqQL"
   },
   "source": [
    "### ● 3.2. DVHデータを抽出する"
   ]
  },
  {
   "cell_type": "markdown",
   "metadata": {},
   "source": [
    "Rectal WallのDVHデータを抽出します。下のセルを実行してみてください。"
   ]
  },
  {
   "cell_type": "code",
   "execution_count": 8,
   "metadata": {},
   "outputs": [
    {
     "name": "stdout",
     "output_type": "stream",
     "text": [
      "['                0                   0                       100\\n', '               10                 7.8                   83.6145\\n', '               20                15.6                   79.5203\\n', '               30                23.4                   76.8293\\n', '               40                31.2                   71.0453\\n', '               50                  39                   52.2919\\n', '               60                46.8                   41.5127\\n', '               70                54.6                   33.3439\\n', '               80                62.4                   26.3351\\n', '               90                70.2                   16.3178\\n']\n"
     ]
    }
   ],
   "source": [
    "# Rectal WallのDVHデータ\n",
    "print(data[34:44])"
   ]
  },
  {
   "cell_type": "markdown",
   "metadata": {},
   "source": [
    "#### **練習2**  \n",
    "PTV-RectumのDVHデータを抽出してください。"
   ]
  },
  {
   "cell_type": "code",
   "execution_count": null,
   "metadata": {},
   "outputs": [],
   "source": [
    "# PTV-RectumのDVHデータ\n"
   ]
  },
  {
   "cell_type": "markdown",
   "metadata": {},
   "source": [
    "### ● 3.3. グラフ化の準備をする"
   ]
  },
  {
   "cell_type": "markdown",
   "metadata": {},
   "source": [
    "① 3.2.で抽出したRectal WallのDVHデータから，半角スペースや改行文字を取り除きます。"
   ]
  },
  {
   "cell_type": "code",
   "execution_count": 9,
   "metadata": {},
   "outputs": [
    {
     "name": "stdout",
     "output_type": "stream",
     "text": [
      "[['0', '0', '100'], ['10', '7.8', '83.6145'], ['20', '15.6', '79.5203'], ['30', '23.4', '76.8293'], ['40', '31.2', '71.0453'], ['50', '39', '52.2919'], ['60', '46.8', '41.5127'], ['70', '54.6', '33.3439'], ['80', '62.4', '26.3351'], ['90', '70.2', '16.3178'], ['100', '78', '0']]\n"
     ]
    }
   ],
   "source": [
    "DVH_data = []\n",
    "\n",
    "for i in data[34:45]:\n",
    "    DVH_data.append(i.split())\n",
    "    \n",
    "print(DVH_data)"
   ]
  },
  {
   "cell_type": "markdown",
   "metadata": {},
   "source": [
    "② ①でつくったDVH_dataからx軸（Dose[Gy]），y軸（Volume[%]）の値を抽出します。"
   ]
  },
  {
   "cell_type": "code",
   "execution_count": 10,
   "metadata": {},
   "outputs": [
    {
     "name": "stdout",
     "output_type": "stream",
     "text": [
      "[0.0, 7.8, 15.6, 23.4, 31.2, 39.0, 46.8, 54.6, 62.4, 70.2, 78.0]\n",
      "[100.0, 83.6145, 79.5203, 76.8293, 71.0453, 52.2919, 41.5127, 33.3439, 26.3351, 16.3178, 0.0]\n"
     ]
    }
   ],
   "source": [
    "x = []\n",
    "y = []\n",
    "\n",
    "for i, j, k in DVH_data:\n",
    "    x.append(float(j))\n",
    "    y.append(float(k))\n",
    "\n",
    "print(x)\n",
    "print(y)"
   ]
  },
  {
   "cell_type": "markdown",
   "metadata": {},
   "source": [
    "#### **練習3**  \n",
    "PTV-RectumのDVHデータからx軸（Dose[%]），y軸（Volume[%]）を抽出しましょう。"
   ]
  },
  {
   "cell_type": "code",
   "execution_count": null,
   "metadata": {},
   "outputs": [],
   "source": [
    "# for文を使ってDVH_data2に半角スペースや改行文字を取り除いたDVHデータを追加してください\n",
    "DVH_data2 = []\n",
    "\n",
    "\n",
    "\n",
    "\n",
    "# DVH_data2からx軸（Dose[%]），y軸（Volume[%]）を抽出しましょう\n",
    "x2 = []\n",
    "y2 = []\n",
    "\n",
    "\n",
    "    \n",
    "\n",
    "\n",
    "# x軸，y軸をprint()関数で表示しましょう。\n",
    "\n"
   ]
  },
  {
   "cell_type": "markdown",
   "metadata": {},
   "source": [
    "### ● 3.4. Matplotlibでグラフを表示する"
   ]
  },
  {
   "cell_type": "markdown",
   "metadata": {},
   "source": [
    "Rectal WallのDVHを表示します。  "
   ]
  },
  {
   "cell_type": "code",
   "execution_count": 11,
   "metadata": {
    "scrolled": false
   },
   "outputs": [
    {
     "data": {
      "image/png": "[encoded data removed]",
      "text/plain": [
       "<Figure size 432x288 with 1 Axes>"
      ]
     },
     "metadata": {
      "needs_background": "light"
     },
     "output_type": "display_data"
    }
   ],
   "source": [
    "import matplotlib.pyplot as plt\n",
    "%matplotlib inline \n",
    "\n",
    "plt.plot(x, y, c='black', ls='--', marker='o')    # グラフ作成\n",
    "\n",
    "plt.title('Rectal Wall')    # タイトル\n",
    "plt.xlabel('Dose[Gy]')      # x軸ラベル\n",
    "plt.ylabel('Volume[%]')     # y軸ラベル\n",
    "plt.grid()                  # グリッド表示"
   ]
  },
  {
   "cell_type": "markdown",
   "metadata": {},
   "source": [
    "・matplotlib.pyplot.plotの概要：https://matplotlib.org/api/_as_gen/matplotlib.pyplot.plot.html  \n",
    "・色の種類の参考：https://pythondatascience.plavox.info/matplotlib/色の名前  \n",
    "・線のスタイルの参考：https://matplotlib.org/api/_as_gen/matplotlib.lines.Line2D.html#matplotlib.lines.Line2D.set_color  \n",
    "・マーカーの種類の参考：https://matplotlib.org/api/markers_api.html#module-matplotlib.markers  "
   ]
  },
  {
   "cell_type": "markdown",
   "metadata": {},
   "source": [
    "#### **練習4**  \n",
    "PTV-RectumのDVHを表示してみましょう。"
   ]
  },
  {
   "cell_type": "code",
   "execution_count": null,
   "metadata": {},
   "outputs": [],
   "source": [
    "# グラフを作成し，タイトルや軸ラベルなどをつけてください\n",
    "\n",
    "\n",
    "\n",
    "\n"
   ]
  },
  {
   "cell_type": "markdown",
   "metadata": {
    "colab_type": "text",
    "id": "-xC5ywSTXqQf"
   },
   "source": [
    "## 〇 4. 必要な情報の抽出"
   ]
  },
  {
   "cell_type": "markdown",
   "metadata": {},
   "source": [
    "### ● 4.1. データの補間"
   ]
  },
  {
   "cell_type": "markdown",
   "metadata": {
    "colab_type": "text",
    "id": "5jBDMF7HXqQg"
   },
   "source": [
    "txtファイルから読み込んだDVHデータは離散値であるため、データの補間が必要な場合があります。"
   ]
  },
  {
   "cell_type": "markdown",
   "metadata": {},
   "source": [
    "Scipyのinterpolateモジュールを用いることで様々な方法でデータの補間をすることができます。  \n",
    "今回はinterp1dを用いて，Rectal WallののV40Gy[%]を求めましょう。"
   ]
  },
  {
   "cell_type": "code",
   "execution_count": 12,
   "metadata": {
    "colab": {},
    "colab_type": "code",
    "id": "index",
    "outputId": "47ef3923-6393-454e-ff8f-e985cc6f9f37"
   },
   "outputs": [
    {
     "name": "stdout",
     "output_type": "stream",
     "text": [
      "50.90995128205128\n"
     ]
    }
   ],
   "source": [
    "from scipy.interpolate import interp1d\n",
    "\n",
    "f = interp1d(x,y)\n",
    "\n",
    "print(f(40))"
   ]
  },
  {
   "cell_type": "markdown",
   "metadata": {},
   "source": [
    "#### **練習5**  \n",
    "PTV-RectumのD95%[%]を求めてみましょう。"
   ]
  },
  {
   "cell_type": "code",
   "execution_count": null,
   "metadata": {},
   "outputs": [],
   "source": [
    "# interp1d()で補間をして，print()でD95%[%]を出力してください\n",
    "\n",
    "f2 = \n"
   ]
  },
  {
   "cell_type": "markdown",
   "metadata": {},
   "source": [
    "#### **参考**  \n",
    "補間方法の違いを確認してみましょう。"
   ]
  },
  {
   "cell_type": "code",
   "execution_count": 13,
   "metadata": {
    "scrolled": false
   },
   "outputs": [
    {
     "data": {
      "image/png": "[encoded data removed]",
      "text/plain": [
       "<Figure size 432x288 with 1 Axes>"
      ]
     },
     "metadata": {
      "needs_background": "light"
     },
     "output_type": "display_data"
    }
   ],
   "source": [
    "import numpy as np\n",
    "tt = np.linspace(0, 78, 1000)\n",
    "\n",
    "# 線形補間\n",
    "f1 = interp1d(x,y)\n",
    "y_1 = f1(tt)\n",
    "\n",
    "# 2次スプライン補間\n",
    "f2 = interp1d(x,y,kind=\"quadratic\")\n",
    "y_2 = f2(tt)\n",
    "\n",
    "# 3次スプライン補間\n",
    "f3 = interp1d(x,y,kind=\"cubic\")\n",
    "y_3 = f3(tt)\n",
    "\n",
    "fig= plt.figure()\n",
    "FIM = fig.add_subplot(111)\n",
    "FIM.scatter(x,y,c='black',marker=\"o\",label=\"DVH data\")\n",
    "FIM.plot(tt, y_1, \"r\", label=\"linear\")\n",
    "FIM.plot(tt, y_2, \"-b\", label=\"quadratic\")\n",
    "FIM.plot(tt, y_3, \"--g\", label=\"cubic\")\n",
    "plt.legend()\n",
    "plt.show()"
   ]
  },
  {
   "cell_type": "markdown",
   "metadata": {},
   "source": [
    "## 〇 5. 練習問題の解答例"
   ]
  },
  {
   "cell_type": "markdown",
   "metadata": {},
   "source": [
    "### ● 練習1"
   ]
  },
  {
   "cell_type": "code",
   "execution_count": 14,
   "metadata": {},
   "outputs": [
    {
     "name": "stdout",
     "output_type": "stream",
     "text": [
      "Prescribed dose [Gy]: 78.000\n",
      "\n"
     ]
    }
   ],
   "source": [
    "# Prescribed dose [Gy] を出力してください\n",
    "print(data[13])"
   ]
  },
  {
   "cell_type": "markdown",
   "metadata": {},
   "source": [
    "### ● 練習2"
   ]
  },
  {
   "cell_type": "code",
   "execution_count": 15,
   "metadata": {},
   "outputs": [
    {
     "name": "stdout",
     "output_type": "stream",
     "text": [
      "['                0                   0                       100\\n', '               10                 7.8                       100\\n', '               20                15.6                       100\\n', '               30                23.4                       100\\n', '               40                31.2                       100\\n', '               50                  39                       100\\n', '               60                46.8                       100\\n', '               70                54.6                       100\\n', '               80                62.4                       100\\n', '               90                70.2                   99.9773\\n', '              100                  78                   61.9731\\n']\n"
     ]
    }
   ],
   "source": [
    "# PTV-RectumのDVHデータ\n",
    "print(data[64:75])"
   ]
  },
  {
   "cell_type": "markdown",
   "metadata": {},
   "source": [
    "### ● 練習3"
   ]
  },
  {
   "cell_type": "code",
   "execution_count": 16,
   "metadata": {},
   "outputs": [
    {
     "name": "stdout",
     "output_type": "stream",
     "text": [
      "[0.0, 10.0, 20.0, 30.0, 40.0, 50.0, 60.0, 70.0, 80.0, 90.0, 100.0]\n",
      "[100.0, 100.0, 100.0, 100.0, 100.0, 100.0, 100.0, 100.0, 100.0, 99.9773, 61.9731]\n"
     ]
    }
   ],
   "source": [
    "# for文を使ってDVH_data2に半角スペースや改行文字を取り除いたDVHデータを追加してください\n",
    "DVH_data2 = []\n",
    "for i in data[64:75]:\n",
    "    DVH_data2.append(i.split())\n",
    "\n",
    "# DVH_data2からx軸（Dose[%]），y軸（Volume[%]）を抽出しましょう\n",
    "x2 = []\n",
    "y2 = []\n",
    "for i, j, k in DVH_data2:\n",
    "    x2.append(float(i))\n",
    "    y2.append(float(k))\n",
    "\n",
    "# x軸，y軸をprint()関数で表示しましょう。\n",
    "print(x2)\n",
    "print(y2)"
   ]
  },
  {
   "cell_type": "markdown",
   "metadata": {},
   "source": [
    "### ● 練習4"
   ]
  },
  {
   "cell_type": "code",
   "execution_count": 17,
   "metadata": {},
   "outputs": [
    {
     "data": {
      "image/png": "[encoded data removed]",
      "text/plain": [
       "<Figure size 432x288 with 1 Axes>"
      ]
     },
     "metadata": {
      "needs_background": "light"
     },
     "output_type": "display_data"
    }
   ],
   "source": [
    "# グラフを作成し，タイトルや軸ラベルなどをつけてください\n",
    "plt.plot(x2, y2, c='black', ls='--', marker='o')\n",
    "\n",
    "plt.title('PTV-Rectum')\n",
    "plt.xlabel('Dose[%]')\n",
    "plt.ylabel('Volume[%]')\n",
    "plt.grid()"
   ]
  },
  {
   "cell_type": "markdown",
   "metadata": {},
   "source": [
    "### ● 練習5"
   ]
  },
  {
   "cell_type": "code",
   "execution_count": 18,
   "metadata": {},
   "outputs": [
    {
     "name": "stdout",
     "output_type": "stream",
     "text": [
      "91.30967103635913\n"
     ]
    }
   ],
   "source": [
    "# interp1d()で補間をして，print()でD95%[%]を出力してください\n",
    "f2 = interp1d(y2, x2)\n",
    "print(f2(95))"
   ]
  },
  {
   "cell_type": "code",
   "execution_count": 20,
   "metadata": {},
   "outputs": [
    {
     "name": "stdout",
     "output_type": "stream",
     "text": [
      "The watermark extension is already loaded. To reload it, use:\n",
      "  %reload_ext watermark\n",
      "CPython 3.7.9\n",
      "IPython 7.18.1\n",
      "\n",
      "numpy 1.19.1\n",
      "scipy 1.5.2\n",
      "matplotlib 3.3.1\n",
      "\n",
      "compiler   : MSC v.1916 64 bit (AMD64)\n",
      "system     : Windows\n",
      "release    : 10\n",
      "machine    : AMD64\n",
      "processor  : Intel64 Family 6 Model 85 Stepping 4, GenuineIntel\n",
      "CPU cores  : 16\n",
      "interpreter: 64bit\n",
      " \n",
      "last updated: Thu Sep 03 2020 16:35:09 ???? (?W???)\n"
     ]
    }
   ],
   "source": [
    "%load_ext watermark\n",
    "\n",
    "%watermark -v -m -p numpy,scipy,matplotlib\n",
    "\n",
    "print(\" \")\n",
    "\n",
    "%watermark -u -n -t -z"
   ]
  }
 ],
 "metadata": {
  "colab": {
   "collapsed_sections": [],
   "name": "DVH.ipynb",
   "provenance": [],
   "version": "0.3.2"
  },
  "kernelspec": {
   "display_name": "Python 3",
   "language": "python",
   "name": "python3"
  },
  "language_info": {
   "codemirror_mode": {
    "name": "ipython",
    "version": 3
   },
   "file_extension": ".py",
   "mimetype": "text/x-python",
   "name": "python",
   "nbconvert_exporter": "python",
   "pygments_lexer": "ipython3",
   "version": "3.7.9"
  },
  "toc": {
   "base_numbering": 1,
   "nav_menu": {},
   "number_sections": false,
   "sideBar": true,
   "skip_h1_title": false,
   "title_cell": "Table of Contents",
   "title_sidebar": "Contents",
   "toc_cell": false,
   "toc_position": {
    "height": "391px",
    "left": "47px",
    "top": "111.14px",
    "width": "428px"
   },
   "toc_section_display": true,
   "toc_window_display": true
  }
 },
 "nbformat": 4,
 "nbformat_minor": 1
}
