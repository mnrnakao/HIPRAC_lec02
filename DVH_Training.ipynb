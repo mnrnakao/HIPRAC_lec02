{
 "cells": [
  {
   "cell_type": "markdown",
   "metadata": {
    "chapterId": "ry-G_A7Wxbf",
    "colab_type": "text",
    "id": "chapter_name"
   },
   "source": [
    "# DVHの表示と活用法（応用編）"
   ]
  },
  {
   "cell_type": "markdown",
   "metadata": {
    "colab_type": "text",
    "id": "table"
   },
   "source": [
    "- **1. 治療計画装置からDVHデータをExportする**\n",
    "<br><br>\n",
    "- **2. Pythonでテキストデータを読み込む**\n",
    "<br><br>\n",
    "- **3. DVHの表示**\n",
    "    - **3.1. Structure名とその行番号を調べる**\n",
    "    - **3.2. すべてのStructureのDVHを表示する**\n",
    "<br><br>\n",
    "- **4. データの補間**\n",
    "    - **4.1. input()関数を使う**"
   ]
  },
  {
   "cell_type": "markdown",
   "metadata": {
    "colab_type": "text",
    "id": "ERwtrII2XqP-"
   },
   "source": [
    "***"
   ]
  },
  {
   "cell_type": "markdown",
   "metadata": {},
   "source": [
    "## 〇 1. 治療計画装置からDVHデータをExportする"
   ]
  },
  {
   "cell_type": "markdown",
   "metadata": {
    "colab_type": "text",
    "id": "section_name",
    "sectionId": "HkzM_0Xbl-f"
   },
   "source": [
    "## 〇 2. Pythonでテキストデータを読み込む"
   ]
  },
  {
   "cell_type": "markdown",
   "metadata": {},
   "source": [
    "下記のようにwith文を用いることで同様の処理ができます。この場合はclose()が不要なのでコードを短くできます。"
   ]
  },
  {
   "cell_type": "code",
   "execution_count": null,
   "metadata": {},
   "outputs": [],
   "source": [
    "with open('DVH1_full.txt',encoding='utf-8') as f:\n",
    "    data = f.readlines()  "
   ]
  },
  {
   "cell_type": "markdown",
   "metadata": {
    "colab_type": "text",
    "id": "Y476HYLnXqQJ"
   },
   "source": [
    "## 〇 3. DVHの表示"
   ]
  },
  {
   "cell_type": "markdown",
   "metadata": {
    "colab_type": "text",
    "id": "EirScGNxXqQL"
   },
   "source": [
    "### ● 3.1. Structure名とその行番号を調べる"
   ]
  },
  {
   "cell_type": "markdown",
   "metadata": {},
   "source": [
    "リスト内包表記とzip()関数を用いて，Structure名のリスト（s_name）とその行番号のリスト（s_index）を取得します。"
   ]
  },
  {
   "cell_type": "code",
   "execution_count": null,
   "metadata": {},
   "outputs": [],
   "source": [
    "structure = [(i, j) for i, j in enumerate(data) if 'Structure:' in j]\n",
    "s_index, s_name = zip(*structure)\n",
    "\n",
    "print(structure)"
   ]
  },
  {
   "cell_type": "markdown",
   "metadata": {},
   "source": [
    "### ● 3.2. すべてのStructureのDVHを表示する"
   ]
  },
  {
   "cell_type": "markdown",
   "metadata": {},
   "source": [
    "すべてのStructureのDVHを表示してみましょう。"
   ]
  },
  {
   "cell_type": "code",
   "execution_count": null,
   "metadata": {},
   "outputs": [],
   "source": [
    "import numpy as np\n",
    "import matplotlib.pyplot as plt\n",
    "%matplotlib inline \n",
    "\n",
    "DVH_arrayset = []\n",
    "\n",
    "for n in range(len(structure)):    \n",
    "    if s_index[n] != max(s_index):\n",
    "        DVH_data = data[s_index[n]+18:s_index[n+1]-1]     \n",
    "    else:\n",
    "        DVH_data = data[s_index[n]+18:-1]\n",
    "    DVH_array = np.array([i.split() for i in DVH_data]).astype(float)\n",
    "    DVH_arrayset.append(DVH_array)\n",
    "    plt.plot(DVH_arrayset[n][:,0], DVH_arrayset[n][:,2],label=s_name[n].strip().strip('Structure: '))\n",
    "\n",
    "plt.grid(True)\n",
    "plt.legend(loc = 'lower left')\n",
    "plt.xlabel('Dose[%]')\n",
    "plt.ylabel('Volume[%]')"
   ]
  },
  {
   "cell_type": "markdown",
   "metadata": {
    "colab_type": "text",
    "id": "-xC5ywSTXqQf"
   },
   "source": [
    "## 〇 4. 必要な情報の抽出"
   ]
  },
  {
   "cell_type": "markdown",
   "metadata": {
    "colab_type": "text",
    "id": "ynRDTtWtXqQt"
   },
   "source": [
    "### ● 4.2. input()関数を使う"
   ]
  },
  {
   "cell_type": "markdown",
   "metadata": {},
   "source": [
    "input()関数を用いることで，txtファイルを外から渡すことができます。"
   ]
  },
  {
   "cell_type": "code",
   "execution_count": null,
   "metadata": {},
   "outputs": [],
   "source": [
    "import numpy as np\n",
    "from scipy.interpolate import interp1d\n",
    "\n",
    "DVH_data = input('File Name >>')\n",
    "    \n",
    "with open(DVH_data,encoding='utf-8') as f:    \n",
    "    data = f.readlines()\n",
    "        \n",
    "structure = [(i, j) for i, j in enumerate(data) if 'Structure: ' in j]\n",
    "s_index, s_name = zip(*structure)\n",
    "    \n",
    "DVH_arrayset = []\n",
    "DxPct_calc = []\n",
    "VxPct_calc = []\n",
    "VxGy_calc = []\n",
    "\n",
    "for n in range(len(structure)):\n",
    "    if s_index[n] != max(s_index):\n",
    "        DVH_data = data[s_index[n]+18:s_index[n+1]-1]\n",
    "    else:\n",
    "        DVH_data = data[s_index[n]+18:-1]\n",
    "    DVH_array = np.array([i.split() for i in DVH_data]).astype(float)\n",
    "    DVH_arrayset.append(DVH_array)\n",
    "  \n",
    "    DxPct = interp1d(DVH_arrayset[n][:,2],DVH_arrayset[n][:,0])\n",
    "    DxPct_calc.append(DxPct)\n",
    "    VxPct = interp1d(DVH_arrayset[n][:,0],DVH_arrayset[n][:,2])\n",
    "    VxPct_calc.append(VxPct)\n",
    "    VxGy = interp1d(DVH_arrayset[n][:,1],DVH_arrayset[n][:,2])\n",
    "    VxGy_calc.append(VxGy)\n",
    "    \n",
    "print('PTV-Rectum')\n",
    "print('  D95%','%.2f' % DxPct_calc[1](95),'%')\n",
    "print('  V90%','%.2f' % VxPct_calc[1](90),'%')\n",
    "print('  Dmax','%.2f' % float(data[s_index[1]+8].strip().split()[3]),'%')\n",
    "print('  Dmean','%.2f' % float(data[s_index[1]+9].strip().split()[3]),'%')\n",
    "print('Rectal Wall')\n",
    "print('  V40Gy','%.2f' % VxGy_calc[0](40),'%')\n",
    "print('  V60Gy','%.2f' % VxGy_calc[0](60),'%')\n",
    "print('  V70Gy','%.2f' % VxGy_calc[0](70),'%')\n",
    "print('  V78Gy','%.2f' % VxGy_calc[0](78),'%')\n",
    "print('Bladder Wall')\n",
    "print('  V40Gy','%.2f' % VxGy_calc[4](40),'%')\n",
    "print('  V70Gy','%.2f' % VxGy_calc[4](70),'%')"
   ]
  },
  {
   "cell_type": "code",
   "execution_count": null,
   "metadata": {},
   "outputs": [],
   "source": []
  }
 ],
 "metadata": {
  "colab": {
   "collapsed_sections": [],
   "name": "DVH.ipynb",
   "provenance": [],
   "version": "0.3.2"
  },
  "kernelspec": {
   "display_name": "Python 3",
   "language": "python",
   "name": "python3"
  },
  "language_info": {
   "codemirror_mode": {
    "name": "ipython",
    "version": 3
   },
   "file_extension": ".py",
   "mimetype": "text/x-python",
   "name": "python",
   "nbconvert_exporter": "python",
   "pygments_lexer": "ipython3",
   "version": "3.7.9"
  },
  "toc": {
   "base_numbering": 1,
   "nav_menu": {},
   "number_sections": false,
   "sideBar": true,
   "skip_h1_title": false,
   "title_cell": "Table of Contents",
   "title_sidebar": "Contents",
   "toc_cell": false,
   "toc_position": {
    "height": "391px",
    "left": "47px",
    "top": "111.14px",
    "width": "428px"
   },
   "toc_section_display": true,
   "toc_window_display": false
  }
 },
 "nbformat": 4,
 "nbformat_minor": 1
}
